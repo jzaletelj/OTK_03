{
 "cells": [
  {
   "cell_type": "markdown",
   "metadata": {},
   "source": [
    "# Analiza komunikacijskih omrežij z uporabo teorije grafov\n",
    "\n",
    "## Uporaba grafov za predstavitev omrežnih topologij\n",
    "\n",
    "IKT omrežja lahko prestavimo s pomočjo grafa, kjer so mrežni elementi (usmerjevalnik..) predstavljeni kot vozlišča, ter komunikacijske povezave kot povezave grafa. Povezavam lahko določimo tudi usmeritev ali ceno prenosa oziroma kapaciteto. V vaji bomo konstruirali mrežne grafe in jih analizirali s pomočjo algoritmov.\n",
    "\n",
    "> ICT networks can frequently be presented as graphs where each network element (router, buffer…)\n",
    "translates into a graph node and each connection between elements translates into a graph edge. In some cases edges can also be given direction (non-symmetric connections) and price / capacity. In this exercise we will learn to construct network graphs and analyse them using the breadth/depth-first search. \n",
    "\n",
    "## Programska orodja\n",
    "\n",
    "Uporabljali bomo knjižnico `networkx`, ki omogoča ustvarjanje grafov in njihovo analizo. Navodila za uporabo so tukaj: \n",
    "\n",
    "https://networkx.github.io/documentation/stable/tutorial.html\n"
   ]
  },
  {
   "cell_type": "code",
   "execution_count": 1,
   "metadata": {
    "pycharm": {
     "is_executing": false
    }
   },
   "outputs": [
    {
     "name": "stdout",
     "output_type": "stream",
     "text": [
      "Requirement already satisfied: networkx in c:\\p_dev\\anaconda3\\lib\\site-packages (2.3)\n",
      "Requirement already satisfied: decorator>=4.3.0 in c:\\p_dev\\anaconda3\\lib\\site-packages (from networkx) (4.4.0)\n"
     ]
    }
   ],
   "source": [
    "!pip install networkx\n",
    "\n",
    "\n",
    "import matplotlib.pyplot as plt\n",
    "import networkx as nx\n",
    "import warnings\n",
    "warnings.filterwarnings('ignore')\n",
    "%matplotlib inline\n"
   ]
  },
  {
   "cell_type": "markdown",
   "metadata": {},
   "source": [
    "### Naloga 1\n",
    "\n",
    "Prvi graf bo vseboval 8 vozlišč s povezavami. Dodali bomo vozlišča in povezave ter jih prikazali v sliki, ter dodali še oznake vozlišč.\n",
    "* Kreiraj prazen graf s številom vozlišč : G = nx.empty_graph(8);  \n",
    "* Dodaj povezave : G.add_edge(0,1);\n",
    "* Določi položaj vozlišč na sliki, avtomatsko (pos = nx.circular_layout(G);) ali ročno\n",
    "* (optional) Dodaj oznake vozlišč"
   ]
  },
  {
   "cell_type": "markdown",
   "metadata": {},
   "source": [
    "![Graf primer 1](Graf1.png \"Graf primer 1\")"
   ]
  },
  {
   "cell_type": "code",
   "execution_count": 19,
   "metadata": {},
   "outputs": [
    {
     "data": {
      "image/png": "[encoded data removed]",
      "text/plain": [
       "<Figure size 432x288 with 1 Axes>"
      ]
     },
     "metadata": {},
     "output_type": "display_data"
    }
   ],
   "source": [
    "# prepare an empty figure\n",
    "plt.figure() \n",
    "# Kreiraj prazen graf\n",
    "G = nx.empty_graph(8);  \n",
    "\n",
    "# Dodajaj povezave\n",
    "G.add_edge(0,1); # Add connection between node 0 and 1\n",
    "#G.add_edges_from([(0,2),(1,3)]); #We can also add several connections at once\n",
    "\n",
    "## Generiraj položaje vozlišč\n",
    "pos = nx.spring_layout(G); \n",
    "#pos = nx.circular_layout(G);\n",
    "\n",
    "# Izriši\n",
    "nx.draw(G,pos);\n",
    "\n",
    "\n",
    "## Ročno definiraj položaje\n",
    "#pos = { 0 : [0,1], 1 : [1,2] }; #ali pa jih napišemo sami\n",
    "\n",
    "#Plot the graph\n",
    "#nx.draw(G,pos);\n",
    "\n",
    "#Define node labels as a dictionary, key => node number, value => node name\n",
    "labels={}\n",
    "labels[0] = '1'\n",
    "labels[1] = '2'\n",
    "labels[2] = '3'\n",
    "\n",
    "#nx.draw_networkx_labels(G,pos,labels,font_size=20); #add labels\n",
    "plt.show(); #show the graph\n"
   ]
  },
  {
   "cell_type": "code",
   "execution_count": null,
   "metadata": {
    "pycharm": {
     "is_executing": false
    },
    "scrolled": true
   },
   "outputs": [],
   "source": []
  },
  {
   "cell_type": "markdown",
   "metadata": {},
   "source": [
    "## Matrika sosednosti\n",
    "\n",
    "Eden izmed bolj pogostih načinov predstavitve grafa je pogosto matrika sosednosti, ki je lahko poljbuno kompleksna, odvisno od lastnosti grafa. V Pythonu jo lahko izdelamo avtomatsko s pomočjo funkcije : nx.adjacency_matrix(G);\n",
    "\n"
   ]
  },
  {
   "cell_type": "code",
   "execution_count": 12,
   "metadata": {
    "pycharm": {
     "is_executing": false
    }
   },
   "outputs": [
    {
     "name": "stdout",
     "output_type": "stream",
     "text": [
      "[[0. 1. 0. 0. 0. 0. 0. 0.]\n",
      " [1. 0. 0. 0. 0. 0. 0. 0.]\n",
      " [0. 0. 0. 0. 0. 0. 0. 0.]\n",
      " [0. 0. 0. 0. 0. 0. 0. 0.]\n",
      " [0. 0. 0. 0. 0. 0. 0. 0.]\n",
      " [0. 0. 0. 0. 0. 0. 0. 0.]\n",
      " [0. 0. 0. 0. 0. 0. 0. 0.]\n",
      " [0. 0. 0. 0. 0. 0. 0. 0.]]\n"
     ]
    }
   ],
   "source": [
    "# adjM = nx.to_numpy_matrix(G)\n",
    "# print(adjM)"
   ]
  },
  {
   "cell_type": "markdown",
   "metadata": {},
   "source": [
    "### Naloga 2:\n",
    "\n",
    "Uporabi matriko sosednosti in izriši graf. Nato dodaj nekaj povezav v matriko, in izriši nov graf. \n",
    "\n",
    "H = nx.from_numpy_matrix(adjM)"
   ]
  },
  {
   "cell_type": "code",
   "execution_count": 16,
   "metadata": {
    "pycharm": {
     "is_executing": false
    }
   },
   "outputs": [
    {
     "data": {
      "image/png": "[encoded data removed]",
      "text/plain": [
       "<Figure size 432x288 with 1 Axes>"
      ]
     },
     "metadata": {},
     "output_type": "display_data"
    }
   ],
   "source": [
    "H = nx.from_numpy_matrix(adjM)\n",
    "plt.figure()\n",
    "\n",
    "#Plot the graph\n",
    "nx.draw(H,pos)"
   ]
  },
  {
   "cell_type": "markdown",
   "metadata": {},
   "source": [
    "### Nekaj primerov grafov\n"
   ]
  },
  {
   "cell_type": "code",
   "execution_count": 17,
   "metadata": {
    "pycharm": {
     "is_executing": false
    }
   },
   "outputs": [
    {
     "data": {
      "text/plain": [
       "<Figure size 432x288 with 0 Axes>"
      ]
     },
     "metadata": {},
     "output_type": "display_data"
    },
    {
     "data": {
      "text/plain": [
       "<Figure size 432x288 with 0 Axes>"
      ]
     },
     "metadata": {},
     "output_type": "display_data"
    },
    {
     "data": {
      "text/plain": [
       "<Figure size 432x288 with 0 Axes>"
      ]
     },
     "metadata": {},
     "output_type": "display_data"
    },
    {
     "data": {
      "text/plain": [
       "<Figure size 432x288 with 0 Axes>"
      ]
     },
     "metadata": {},
     "output_type": "display_data"
    }
   ],
   "source": [
    "plt.figure()\n",
    "N = nx.gnm_random_graph(10,15)  #Randomly generated\n",
    "pos = nx.circular_layout(N);\n",
    "\n",
    "#nx.draw(G,pos);\n",
    "#nx.draw_networkx_labels(G,pos); \n",
    "\n",
    "plt.figure();\n",
    "\n",
    "M = nx.barbell_graph(8,1);  #Two connected sub-networks\n",
    "pos = nx.circular_layout(M);\n",
    "#nx.draw(H,pos);\n",
    "#nx.draw_networkx_labels(H,pos);\n",
    "\n",
    "plt.figure();\n",
    "\n",
    "O = nx.complete_graph(15);  #A full graph (all possible connections exist)\n",
    "pos = nx.circular_layout(O);\n",
    "#nx.draw(N,pos); # Plot graph\n",
    "#nx.draw_networkx_labels(N,pos); # Plot node labels\n",
    "\n",
    "plt.figure();\n",
    "\n",
    "P = nx.hypercube_graph(5);  # 5-dimensional cube\n",
    "pos = nx.circular_layout(P);\n",
    "#nx.draw(M,pos); \n",
    "#nx.draw_networkx_labels(M,pos);"
   ]
  },
  {
   "cell_type": "markdown",
   "metadata": {},
   "source": [
    "# Metode analize grafov - sprehod v širino / globino \n",
    "\n",
    "Algorimi za pregledovanje grafa so zelo koristni tako za pridobivanje osnovnih informacij o omrežju (npr. ali so vsa vozlišča povezana med seboj), kot tudi za opravljanje določenih analitičnih nalog kot so izdelava vpetega drevesa, detekcija kritičnih točk v omrežju, iskanje najkrajše poti ali reševanje zadanih nalog podanih v obliki grafa.\n",
    "\n",
    "## Primer grafa\n",
    "Uporabljali bomo zgornji prvi graf (G).\n"
   ]
  },
  {
   "cell_type": "code",
   "execution_count": 20,
   "metadata": {
    "pycharm": {
     "is_executing": false
    }
   },
   "outputs": [
    {
     "data": {
      "image/png": "[encoded data removed]",
      "text/plain": [
       "<Figure size 432x288 with 1 Axes>"
      ]
     },
     "metadata": {},
     "output_type": "display_data"
    }
   ],
   "source": [
    "\n",
    "#Plot the graph\n",
    "nx.draw(G,pos);\n",
    "nx.draw_networkx_labels(G,pos); # Plot node labels"
   ]
  },
  {
   "cell_type": "markdown",
   "metadata": {},
   "source": [
    "## Depth first search (DFS):  Sprehod v globino\n",
    "\n",
    "Za sprehod v globino je značilno to, da iz izvornega vozlišča potuje kolikor daleč je le možno. Šele nato se vrne nazaj v izhodišče in preizkusi drugo pot. Zato se algoritem lahko uporabi za naloge kot so iskanje poti iz labirinta. \n",
    "\n",
    "> The depth first search starts from the selected node and tries to reach as many nodes as possible. Once it cannot proceed further it starts to backtrack it's steps until it finds a connection that allows it to progress deeper into the graph again. The advantage of such an approach is that it can traverse the graph quickly and reach it's extreme end. A good example of practical use of such an algorithm is finding a solution for a maze.\n",
    "\n",
    "https://en.wikipedia.org/wiki/Depth-first_search\n",
    "\n",
    "\n",
    "Izberemo začetno vozlišče in izpišemo zaporedje prehodov vozlišč:"
   ]
  },
  {
   "cell_type": "code",
   "execution_count": 21,
   "metadata": {
    "pycharm": {
     "is_executing": false
    }
   },
   "outputs": [
    {
     "name": "stdout",
     "output_type": "stream",
     "text": [
      "[]\n"
     ]
    }
   ],
   "source": [
    "startNode = 3\n",
    "print (list(nx.dfs_edges(G,startNode)))"
   ]
  },
  {
   "cell_type": "markdown",
   "metadata": {},
   "source": [
    "> We can print a list of successors (i.e. a list of nodes connected to each visited node) and draw a directed graph that demonstrates how the algorithm works.\n",
    "\n",
    "Izpišemo še seznam povezanih sosedov  :"
   ]
  },
  {
   "cell_type": "code",
   "execution_count": 22,
   "metadata": {
    "pycharm": {
     "is_executing": false,
     "name": "#%%\n"
    }
   },
   "outputs": [
    {
     "name": "stdout",
     "output_type": "stream",
     "text": [
      "{}\n"
     ]
    }
   ],
   "source": [
    "# Print successors for each node\n",
    "print (nx.dfs_successors(G,startNode))"
   ]
  },
  {
   "cell_type": "code",
   "execution_count": 23,
   "metadata": {
    "pycharm": {
     "is_executing": false
    },
    "scrolled": true
   },
   "outputs": [
    {
     "data": {
      "text/plain": [
       "<Figure size 432x288 with 0 Axes>"
      ]
     },
     "metadata": {},
     "output_type": "display_data"
    }
   ],
   "source": [
    "# Draw a directed graph\n",
    "H = nx.dfs_tree(G, startNode);\n",
    "plt.figure();\n",
    "\n",
    "# Uncomment to draw the graph\n",
    "#nx.draw(H,pos);\n",
    "#nx.draw_networkx_labels(H,pos);\n",
    "plt.show();"
   ]
  },
  {
   "cell_type": "markdown",
   "metadata": {},
   "source": [
    "### Naloga 3\n",
    "Izpiši zaporedje naslednikov vozlišč ter izriši usmerjen graf sprehoda v globino še za drugo izbrano začetno vozlišče. \n"
   ]
  },
  {
   "cell_type": "code",
   "execution_count": null,
   "metadata": {},
   "outputs": [],
   "source": [
    "# Naloga 3"
   ]
  },
  {
   "cell_type": "markdown",
   "metadata": {},
   "source": [
    "## Breadth first search (BFS) : Sprehod v širino\n",
    "\n",
    "Sprehod v širino lahko obravnavamo kot inverz sprehoda v globino, ker se toliko časa vrača v začetno točko, dokler so tam še neobiskane poti. Zato je koristen za iskanje najkrajše možne poti iz enega vozlišča v drugo. \n",
    "\n",
    "> The BFS starts from the selected node and tries to use all avaliable edges before proceeding to the next node. Once it cannot proceed it will proceed to the next node until it finds a node with connections that allow the algorithm to visit new nodes. The advantage of such an approach is that it can traverse a deep insight into number of steps required to get from the starting point to the required node.\n",
    "\n",
    "https://en.wikipedia.org/wiki/Breadth-first_search\n",
    "\n",
    "> The following steps demonstrate the BFS approach on our graph. In the first step we select the starting node (the result of the algorithm will be different for each starting node). We then run the algorithm and get the information of how the algorithm traversed the graph in the form of a list of edges:"
   ]
  },
  {
   "cell_type": "code",
   "execution_count": 25,
   "metadata": {
    "pycharm": {
     "is_executing": false
    }
   },
   "outputs": [
    {
     "name": "stdout",
     "output_type": "stream",
     "text": [
      "[]\n"
     ]
    }
   ],
   "source": [
    "startNode = 3\n",
    "print (list(nx.bfs_edges(G,startNode)))"
   ]
  },
  {
   "cell_type": "markdown",
   "metadata": {},
   "source": [
    "Seznam povezanih sosedov:"
   ]
  },
  {
   "cell_type": "code",
   "execution_count": 26,
   "metadata": {
    "pycharm": {
     "is_executing": false
    },
    "scrolled": true
   },
   "outputs": [
    {
     "name": "stdout",
     "output_type": "stream",
     "text": [
      "[(3, [])]\n"
     ]
    }
   ],
   "source": [
    "print(list(nx.bfs_successors(G,startNode)))"
   ]
  },
  {
   "cell_type": "code",
   "execution_count": 32,
   "metadata": {
    "pycharm": {
     "is_executing": false,
     "name": "#%%\n"
    }
   },
   "outputs": [
    {
     "data": {
      "text/plain": [
       "<Figure size 432x288 with 0 Axes>"
      ]
     },
     "metadata": {},
     "output_type": "display_data"
    }
   ],
   "source": [
    "K = nx.bfs_tree(G,startNode);\n",
    "plt.figure();\n",
    "#nx.draw(K,pos);\n",
    "#nx.draw_networkx_labels(K,pos);\n",
    "#plt.show();"
   ]
  },
  {
   "cell_type": "markdown",
   "metadata": {},
   "source": [
    "# Articulation points / Kritične točke\n",
    "\n",
    "Zelo dober primer uporabe sprehoda v globino je algoritem za analizo omrežja in detekcijo kritičnih vozlišč. Kritična vozlišča so vozlišča katerih izpad bi omrežje razdelil v dve podomrežji med katerimi ni skupne povezave.\n",
    "\n",
    "> A good example of efficient use of DFS is detection of articulation points in a network.\n",
    "An articulation point or cut vertex is any node whose removal (along with all its incident edges) increases the number of connected components of a graph. Articulation points are critical nodes in a network since their failure results in the network breaking apart into several\n",
    "disconnected subnetworks."
   ]
  },
  {
   "cell_type": "markdown",
   "metadata": {},
   "source": [
    "Primer grafa, seznam kritičnih vozlišč:"
   ]
  },
  {
   "cell_type": "code",
   "execution_count": 31,
   "metadata": {
    "pycharm": {
     "is_executing": false,
     "name": "#%%\n"
    }
   },
   "outputs": [
    {
     "name": "stdout",
     "output_type": "stream",
     "text": [
      "Articulation points:  [5, 11, 14, 41, 49, 53, 44, 34, 27, 17]\n"
     ]
    },
    {
     "data": {
      "image/png": "[encoded data removed]",
      "text/plain": [
       "<Figure size 432x288 with 1 Axes>"
      ]
     },
     "metadata": {},
     "output_type": "display_data"
    }
   ],
   "source": [
    "#Plot the graph\n",
    "nx.draw(G,pos);\n",
    "nx.draw_networkx_labels(G,pos); #dodamo oznake vozlisc\n",
    "\n",
    "print( 'Articulation points: ' , list(nx.articulation_points(G)))"
   ]
  },
  {
   "cell_type": "markdown",
   "metadata": {},
   "source": [
    "Sedaj dodamo dodatne povezave, da se odstranimo kritična vozlišča."
   ]
  },
  {
   "cell_type": "code",
   "execution_count": 33,
   "metadata": {
    "pycharm": {
     "is_executing": false,
     "name": "#%%\n"
    }
   },
   "outputs": [
    {
     "name": "stdout",
     "output_type": "stream",
     "text": [
      "Articulation points:  [5, 11, 14, 41, 49, 53, 44, 34, 27, 17]\n"
     ]
    }
   ],
   "source": [
    "# G.add_edge(1,4);\n",
    "# G.add_edge(4,7);\n",
    "\n",
    "#nx.draw(G,pos);\n",
    "#nx.draw_networkx_labels(G,pos); #dodamo oznake vozlisc\n",
    "\n",
    "print( 'Articulation points: ' , list(nx.articulation_points(G)))"
   ]
  },
  {
   "cell_type": "markdown",
   "metadata": {},
   "source": [
    "### Primer 2:\n",
    "Graf z 56 vozlišči. \n"
   ]
  },
  {
   "cell_type": "code",
   "execution_count": 34,
   "metadata": {
    "pycharm": {
     "is_executing": false
    }
   },
   "outputs": [
    {
     "data": {
      "text/plain": [
       "<Figure size 864x720 with 0 Axes>"
      ]
     },
     "metadata": {},
     "output_type": "display_data"
    },
    {
     "name": "stdout",
     "output_type": "stream",
     "text": [
      "[5, 11, 14, 17, 27, 34, 41, 44, 49, 53]\n"
     ]
    }
   ],
   "source": [
    "plt.figure(figsize=[12,10])\n",
    "G = nx.empty_graph(56);\n",
    "G.remove_node(0);\n",
    "G.add_edges_from([(1,2),(1,3),(1,5),(2,3),(2,5),(3,5),(4,5),(5,17),(6,7),(6,11),(7,11),(8,11),(9,11),(10,11),(11,13),(11,14),(11,15),(11,16),(12,14),(13,14),(13,15),(13,16),(14,15),(14,16),(14,20),(15,16),(15,18),(15,19),(16,27)\n",
    ",(17,27),(18,21),(19,20),(19,21),(20,24),(21,22),(21,23),(21,25),(22,23),(22,25),(23,25),(24,26),(24,28),(25,28),(25,29),(25,30),(26,28),(28,30),(28,39),(27,30),(27,44),(29,31),(29,34),(30,34),(30,41),(31,34),(32,33),(32,34),(33,34)\n",
    ",(34,35),(34,36),(34,37),(34,38),(35,36),(35,37),(35,38),(36,37),(36,38),(37,38),(39,40),(39,41),(40,41),(41,42),(41,43),(41,44),(41,45),(41,46),(41,47),(42,43),(44,53),(44,49),(45,46),(45,47),(46,47)\n",
    ",(48,49),(49,50),(49,51),(49,52),(49,53),(50,51),(50,52),(51,52),(52,54),(53,54),(53,55),(53,56),(55,56)]);\n",
    "\n",
    "pos = nx.kamada_kawai_layout(G)\n",
    "#pos = nx.spectral_layout(G, scale=1);\n",
    "#pos = nx.spring_layout(G,scale=2);\n",
    "\n",
    "# nodes\n",
    "#nx.draw_networkx_nodes(G,pos,node_size=300);\n",
    "\n",
    "# edges\n",
    "#nx.draw_networkx_edges(G,pos,width=2);\n",
    "\n",
    "# labels\n",
    "#nx.draw_networkx_labels(G,pos,font_size=10,font_family='sans-serif');\n",
    "\n",
    "# plt.axis('off')\n",
    "plt.show() # display\n",
    "\n",
    "print (sorted(set(nx.articulation_points(G))));"
   ]
  },
  {
   "cell_type": "markdown",
   "metadata": {},
   "source": [
    "### Naloga 4: \n",
    "Odstrani vsaj dve kritični točki in prikaži nov graf. \n"
   ]
  },
  {
   "cell_type": "code",
   "execution_count": null,
   "metadata": {
    "pycharm": {
     "is_executing": false,
     "name": "#%%\n"
    }
   },
   "outputs": [],
   "source": [
    "\n"
   ]
  },
  {
   "cell_type": "markdown",
   "metadata": {},
   "source": [
    "### Naloga 5:\n",
    "\n",
    "Uporabi obstoječe primere kode sprehodov v širino in globino ter kritičnih točk in jih testiraj na svojem primeru grafa. Kreiraj graf, ki naj vsebuje\n",
    "* vsaj 15 vozlišč, vsa naj bodo povezana v eno omrežje, toda ni vsako vozlišče povezano z vsakim.\n",
    "\n",
    "Ideje, graf lahko predstavlja: cestne povezave med mesti, letalske povezave, lokalno rač. omrežje... Dodaj tudi oznake in izriši graf.\n",
    "\n",
    "Kreiraj graf in ga analiziraj s pomočjo vseh metod, ter izriši grafe prehodov algoritmov. Detektiraj kritična vozlišča, ter dodaj nove povezave, da jih odstraniš.\n",
    "\n"
   ]
  },
  {
   "cell_type": "code",
   "execution_count": null,
   "metadata": {},
   "outputs": [],
   "source": []
  }
 ],
 "metadata": {
  "kernelspec": {
   "display_name": "Python 3",
   "language": "python",
   "name": "python3"
  },
  "language_info": {
   "codemirror_mode": {
    "name": "ipython",
    "version": 3
   },
   "file_extension": ".py",
   "mimetype": "text/x-python",
   "name": "python",
   "nbconvert_exporter": "python",
   "pygments_lexer": "ipython3",
   "version": "3.6.9"
  },
  "pycharm": {
   "stem_cell": {
    "cell_type": "raw",
    "metadata": {
     "collapsed": false
    },
    "source": []
   }
  }
 },
 "nbformat": 4,
 "nbformat_minor": 4
}
